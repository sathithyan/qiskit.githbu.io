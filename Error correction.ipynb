{
 "cells": [
  {
   "cell_type": "code",
   "execution_count": 1,
   "id": "a7ee50b9",
   "metadata": {},
   "outputs": [],
   "source": [
    "from qiskit import QuantumCircuit, execute, Aer\n",
    "\n",
    "# Initialize the circuit with 3 qubits\n",
    "qc = QuantumCircuit(3)\n",
    "\n",
    "# Prepare the first qubit (data qubit) in state |0>\n",
    "qc.h(0)\n",
    "\n",
    "# Prepare the two additional qubits in state |0>\n",
    "qc.h(1)\n",
    "qc.h(2)\n",
    "\n",
    "# Controlled-NOT gates to implement the verification logic\n",
    "qc.cx(0, 1)\n",
    "qc.cx(0, 2)\n",
    "\n",
    "# Measure all qubits\n",
    "qc.measure_all()"
   ]
  },
  {
   "cell_type": "code",
   "execution_count": 2,
   "id": "18aabbf7",
   "metadata": {},
   "outputs": [
    {
     "name": "stdout",
     "output_type": "stream",
     "text": [
      "Measurement counts:\n",
      "{'110': 1}\n",
      "Error detected! Data qubit was likely state |1>.\n"
     ]
    }
   ],
   "source": [
    "# Simulate the circuit using a simulator\n",
    "simulator = Aer.get_backend('qasm_simulator')\n",
    "job = execute(qc, simulator, shots=1)\n",
    "result = job.result()\n",
    "counts = result.get_counts(qc)\n",
    "\n",
    "# Analyze the measurement counts\n",
    "print(\"Measurement counts:\")\n",
    "print(counts)\n",
    "\n",
    "\n",
    "# Interpretation\n",
    "if counts.get(\"000\") == 1:\n",
    "    # All qubits in state |0>, data qubit was received without error.\n",
    "    print(\"Data qubit received correctly (state |0>).\")\n",
    "elif counts.get(\"001\") == 1:\n",
    "    # Only one of the verification qubits is in state |1>, data qubit should have been state |0>.\n",
    "    print(\"Error detected! Data qubit was likely state |0>.\")\n",
    "elif counts.get(\"010\")==1:\n",
    "    # Only one of the verification qubits is in state |1>, data qubit should have been state |0>.    \n",
    "    print(\"Error detected! Data qubit was likely state |0>.\")\n",
    "elif counts.get(\"100\")==1:\n",
    "    # Two of the verification qubits are state 0 whilst data qubit is state 1, data qubit should have been state |0>.    \n",
    "    print(\"Error detected! Data qubit was likely state |0>.\")\n",
    "elif counts.get(\"011\") ==1 :\n",
    "    # Two of the verification qubits are state 1 whilst data qubit is state 0, data qubit should have been state |1>.    \n",
    "    print(\"Error detected! Data qubit was likely state |1>.\")\n",
    "elif counts.get(\"101\")==1:\n",
    "    # One of the verification qubits and teh data qubit are state 1 whilst other verification qubit is state 0, data qubit should have been state |1>.    \n",
    "    print(\"Error detected! Data qubit was likely state |1>.\")\n",
    "elif counts.get(\"110\")==1:\n",
    "    # One of the verification qubits and teh data qubit are state 1 whilst other verification qubit is state 0, data qubit should have been state |1>.    \n",
    "    print(\"Error detected! Data qubit was likely state |1>.\")\n",
    "elif counts.get(\"111\")==1:\n",
    "    # All qubits in state |1>, data qubit was received without error.\n",
    "    print(\"Error detected! Data qubit was likely state |1>.\")\n"
   ]
  }
 ],
 "metadata": {
  "kernelspec": {
   "display_name": "Python 3 (ipykernel)",
   "language": "python",
   "name": "python3"
  },
  "language_info": {
   "codemirror_mode": {
    "name": "ipython",
    "version": 3
   },
   "file_extension": ".py",
   "mimetype": "text/x-python",
   "name": "python",
   "nbconvert_exporter": "python",
   "pygments_lexer": "ipython3",
   "version": "3.9.13"
  }
 },
 "nbformat": 4,
 "nbformat_minor": 5
}
